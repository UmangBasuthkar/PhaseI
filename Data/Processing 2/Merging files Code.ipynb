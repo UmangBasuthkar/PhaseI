{
 "cells": [
  {
   "cell_type": "code",
   "execution_count": 2,
   "id": "afc0cef9",
   "metadata": {},
   "outputs": [],
   "source": [
    "import pandas as pd\n",
    "import numpy as np"
   ]
  },
  {
   "cell_type": "code",
   "execution_count": 3,
   "id": "60e8a59b",
   "metadata": {},
   "outputs": [],
   "source": [
    "plant_height = pd.read_csv(\"Plant_Height.csv\")"
   ]
  },
  {
   "cell_type": "code",
   "execution_count": 4,
   "id": "0b45ce5e",
   "metadata": {},
   "outputs": [],
   "source": [
    "Imp_file = pd.read_csv(\"Mapped_set_CSV(Imputed).csv\")"
   ]
  },
  {
   "cell_type": "code",
   "execution_count": 5,
   "id": "0eb09980",
   "metadata": {},
   "outputs": [],
   "source": [
    "Raw_file = pd.read_csv(\"Mapped_set_CSV(Raw).csv\")"
   ]
  },
  {
   "cell_type": "code",
   "execution_count": 6,
   "id": "f3632496",
   "metadata": {},
   "outputs": [
    {
     "name": "stderr",
     "output_type": "stream",
     "text": [
      "C:\\Users\\UMANG\\AppData\\Local\\Temp\\ipykernel_8888\\2126951540.py:4: FutureWarning: The frame.append method is deprecated and will be removed from pandas in a future version. Use pandas.concat instead.\n",
      "  result_imp = top_imp.append(clear_imp, ignore_index = True)\n"
     ]
    }
   ],
   "source": [
    "main_imp = pd.merge(Imp_file, plant_height, on = \"Cultivar ID\", how = \"left\")\n",
    "top_imp = main_imp.iloc[:6]\n",
    "clear_imp = main_imp.dropna()\n",
    "result_imp = top_imp.append(clear_imp, ignore_index = True)\n",
    "result_imp.to_csv(\"Mapped_set_final(Imputed).csv\", index = False)"
   ]
  },
  {
   "cell_type": "code",
   "execution_count": 7,
   "id": "99185e20",
   "metadata": {},
   "outputs": [
    {
     "name": "stderr",
     "output_type": "stream",
     "text": [
      "C:\\Users\\UMANG\\AppData\\Local\\Temp\\ipykernel_8888\\4125701851.py:4: FutureWarning: The frame.append method is deprecated and will be removed from pandas in a future version. Use pandas.concat instead.\n",
      "  result_raw = top_raw.append(clear_raw, ignore_index = True)\n"
     ]
    }
   ],
   "source": [
    "main_raw = pd.merge(Raw_file, plant_height, on = \"Cultivar ID\", how = \"left\")\n",
    "top_raw = main_raw.iloc[:6]\n",
    "clear_raw = main_raw.dropna()\n",
    "result_raw = top_raw.append(clear_raw, ignore_index = True)\n",
    "result_raw.to_csv(\"Mapped_set_final(Raw).csv\", index = False)"
   ]
  }
 ],
 "metadata": {
  "kernelspec": {
   "display_name": "Python 3 (ipykernel)",
   "language": "python",
   "name": "python3"
  },
  "language_info": {
   "codemirror_mode": {
    "name": "ipython",
    "version": 3
   },
   "file_extension": ".py",
   "mimetype": "text/x-python",
   "name": "python",
   "nbconvert_exporter": "python",
   "pygments_lexer": "ipython3",
   "version": "3.10.4"
  }
 },
 "nbformat": 4,
 "nbformat_minor": 5
}
